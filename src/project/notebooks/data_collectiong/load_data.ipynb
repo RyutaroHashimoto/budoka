{
 "cells": [
  {
   "cell_type": "code",
   "execution_count": 1,
   "id": "a77213dd-9d89-40d7-8eea-19928ef67574",
   "metadata": {},
   "outputs": [
    {
     "data": {
      "text/html": [
       "<pre style=\"white-space:pre;overflow-x:auto;line-height:normal;font-family:Menlo,'DejaVu Sans Mono',consolas,'Courier New',monospace\"></pre>\n"
      ],
      "text/plain": []
     },
     "metadata": {},
     "output_type": "display_data"
    },
    {
     "data": {
      "text/plain": [
       "\u001b[1m[\u001b[0m\u001b[32m'train_raw'\u001b[0m, \u001b[32m'test_raw'\u001b[0m, \u001b[32m'gender'\u001b[0m, \u001b[32m'parameters'\u001b[0m\u001b[1m]\u001b[0m"
      ]
     },
     "execution_count": 1,
     "metadata": {},
     "output_type": "execute_result"
    }
   ],
   "source": [
    "catalog.list()"
   ]
  },
  {
   "cell_type": "code",
   "execution_count": 2,
   "id": "bc620999-051f-4bac-9530-74bf01c7f721",
   "metadata": {
    "editable": true,
    "slideshow": {
     "slide_type": ""
    },
    "tags": []
   },
   "outputs": [
    {
     "data": {
      "text/html": [
       "<pre style=\"white-space:pre;overflow-x:auto;line-height:normal;font-family:Menlo,'DejaVu Sans Mono',consolas,'Courier New',monospace\"><span style=\"color: #7fbfbf; text-decoration-color: #7fbfbf\">[10/03/23 02:35:27] </span><span style=\"color: #000080; text-decoration-color: #000080\">INFO    </span> Loading data from <span style=\"color: #008000; text-decoration-color: #008000\">'train_raw'</span> <span style=\"font-weight: bold\">(</span>CSVDataSet<span style=\"font-weight: bold\">)</span><span style=\"color: #808000; text-decoration-color: #808000\">...</span>                      <a href=\"file:///usr/local/lib/python3.10/site-packages/kedro/io/data_catalog.py\" target=\"_blank\"><span style=\"color: #7f7f7f; text-decoration-color: #7f7f7f\">data_catalog.py</span></a><span style=\"color: #7f7f7f; text-decoration-color: #7f7f7f\">:</span><a href=\"file:///usr/local/lib/python3.10/site-packages/kedro/io/data_catalog.py#492\" target=\"_blank\"><span style=\"color: #7f7f7f; text-decoration-color: #7f7f7f\">492</span></a>\n",
       "</pre>\n"
      ],
      "text/plain": [
       "\u001b[2;36m[10/03/23 02:35:27]\u001b[0m\u001b[2;36m \u001b[0m\u001b[34mINFO    \u001b[0m Loading data from \u001b[32m'train_raw'\u001b[0m \u001b[1m(\u001b[0mCSVDataSet\u001b[1m)\u001b[0m\u001b[33m...\u001b[0m                      \u001b]8;id=577045;file:///usr/local/lib/python3.10/site-packages/kedro/io/data_catalog.py\u001b\\\u001b[2mdata_catalog.py\u001b[0m\u001b]8;;\u001b\\\u001b[2m:\u001b[0m\u001b]8;id=710905;file:///usr/local/lib/python3.10/site-packages/kedro/io/data_catalog.py#492\u001b\\\u001b[2m492\u001b[0m\u001b]8;;\u001b\\\n"
      ]
     },
     "metadata": {},
     "output_type": "display_data"
    },
    {
     "data": {
      "text/html": [
       "<pre style=\"white-space:pre;overflow-x:auto;line-height:normal;font-family:Menlo,'DejaVu Sans Mono',consolas,'Courier New',monospace\"></pre>\n"
      ],
      "text/plain": []
     },
     "metadata": {},
     "output_type": "display_data"
    },
    {
     "data": {
      "text/html": [
       "<div>\n",
       "<style scoped>\n",
       "    .dataframe tbody tr th:only-of-type {\n",
       "        vertical-align: middle;\n",
       "    }\n",
       "\n",
       "    .dataframe tbody tr th {\n",
       "        vertical-align: top;\n",
       "    }\n",
       "\n",
       "    .dataframe thead th {\n",
       "        text-align: right;\n",
       "    }\n",
       "</style>\n",
       "<table border=\"1\" class=\"dataframe\">\n",
       "  <thead>\n",
       "    <tr style=\"text-align: right;\">\n",
       "      <th></th>\n",
       "      <th>PassengerId</th>\n",
       "      <th>Survived</th>\n",
       "      <th>Pclass</th>\n",
       "      <th>Name</th>\n",
       "      <th>Sex</th>\n",
       "      <th>Age</th>\n",
       "      <th>SibSp</th>\n",
       "      <th>Parch</th>\n",
       "      <th>Ticket</th>\n",
       "      <th>Fare</th>\n",
       "      <th>Cabin</th>\n",
       "      <th>Embarked</th>\n",
       "    </tr>\n",
       "  </thead>\n",
       "  <tbody>\n",
       "    <tr>\n",
       "      <th>0</th>\n",
       "      <td>1</td>\n",
       "      <td>0</td>\n",
       "      <td>3</td>\n",
       "      <td>Braund, Mr. Owen Harris</td>\n",
       "      <td>male</td>\n",
       "      <td>22.0</td>\n",
       "      <td>1</td>\n",
       "      <td>0</td>\n",
       "      <td>A/5 21171</td>\n",
       "      <td>7.2500</td>\n",
       "      <td>NaN</td>\n",
       "      <td>S</td>\n",
       "    </tr>\n",
       "    <tr>\n",
       "      <th>1</th>\n",
       "      <td>2</td>\n",
       "      <td>1</td>\n",
       "      <td>1</td>\n",
       "      <td>Cumings, Mrs. John Bradley (Florence Briggs Th...</td>\n",
       "      <td>female</td>\n",
       "      <td>38.0</td>\n",
       "      <td>1</td>\n",
       "      <td>0</td>\n",
       "      <td>PC 17599</td>\n",
       "      <td>71.2833</td>\n",
       "      <td>C85</td>\n",
       "      <td>C</td>\n",
       "    </tr>\n",
       "    <tr>\n",
       "      <th>2</th>\n",
       "      <td>3</td>\n",
       "      <td>1</td>\n",
       "      <td>3</td>\n",
       "      <td>Heikkinen, Miss. Laina</td>\n",
       "      <td>female</td>\n",
       "      <td>26.0</td>\n",
       "      <td>0</td>\n",
       "      <td>0</td>\n",
       "      <td>STON/O2. 3101282</td>\n",
       "      <td>7.9250</td>\n",
       "      <td>NaN</td>\n",
       "      <td>S</td>\n",
       "    </tr>\n",
       "    <tr>\n",
       "      <th>3</th>\n",
       "      <td>4</td>\n",
       "      <td>1</td>\n",
       "      <td>1</td>\n",
       "      <td>Futrelle, Mrs. Jacques Heath (Lily May Peel)</td>\n",
       "      <td>female</td>\n",
       "      <td>35.0</td>\n",
       "      <td>1</td>\n",
       "      <td>0</td>\n",
       "      <td>113803</td>\n",
       "      <td>53.1000</td>\n",
       "      <td>C123</td>\n",
       "      <td>S</td>\n",
       "    </tr>\n",
       "    <tr>\n",
       "      <th>4</th>\n",
       "      <td>5</td>\n",
       "      <td>0</td>\n",
       "      <td>3</td>\n",
       "      <td>Allen, Mr. William Henry</td>\n",
       "      <td>male</td>\n",
       "      <td>35.0</td>\n",
       "      <td>0</td>\n",
       "      <td>0</td>\n",
       "      <td>373450</td>\n",
       "      <td>8.0500</td>\n",
       "      <td>NaN</td>\n",
       "      <td>S</td>\n",
       "    </tr>\n",
       "    <tr>\n",
       "      <th>...</th>\n",
       "      <td>...</td>\n",
       "      <td>...</td>\n",
       "      <td>...</td>\n",
       "      <td>...</td>\n",
       "      <td>...</td>\n",
       "      <td>...</td>\n",
       "      <td>...</td>\n",
       "      <td>...</td>\n",
       "      <td>...</td>\n",
       "      <td>...</td>\n",
       "      <td>...</td>\n",
       "      <td>...</td>\n",
       "    </tr>\n",
       "    <tr>\n",
       "      <th>886</th>\n",
       "      <td>887</td>\n",
       "      <td>0</td>\n",
       "      <td>2</td>\n",
       "      <td>Montvila, Rev. Juozas</td>\n",
       "      <td>male</td>\n",
       "      <td>27.0</td>\n",
       "      <td>0</td>\n",
       "      <td>0</td>\n",
       "      <td>211536</td>\n",
       "      <td>13.0000</td>\n",
       "      <td>NaN</td>\n",
       "      <td>S</td>\n",
       "    </tr>\n",
       "    <tr>\n",
       "      <th>887</th>\n",
       "      <td>888</td>\n",
       "      <td>1</td>\n",
       "      <td>1</td>\n",
       "      <td>Graham, Miss. Margaret Edith</td>\n",
       "      <td>female</td>\n",
       "      <td>19.0</td>\n",
       "      <td>0</td>\n",
       "      <td>0</td>\n",
       "      <td>112053</td>\n",
       "      <td>30.0000</td>\n",
       "      <td>B42</td>\n",
       "      <td>S</td>\n",
       "    </tr>\n",
       "    <tr>\n",
       "      <th>888</th>\n",
       "      <td>889</td>\n",
       "      <td>0</td>\n",
       "      <td>3</td>\n",
       "      <td>Johnston, Miss. Catherine Helen \"Carrie\"</td>\n",
       "      <td>female</td>\n",
       "      <td>NaN</td>\n",
       "      <td>1</td>\n",
       "      <td>2</td>\n",
       "      <td>W./C. 6607</td>\n",
       "      <td>23.4500</td>\n",
       "      <td>NaN</td>\n",
       "      <td>S</td>\n",
       "    </tr>\n",
       "    <tr>\n",
       "      <th>889</th>\n",
       "      <td>890</td>\n",
       "      <td>1</td>\n",
       "      <td>1</td>\n",
       "      <td>Behr, Mr. Karl Howell</td>\n",
       "      <td>male</td>\n",
       "      <td>26.0</td>\n",
       "      <td>0</td>\n",
       "      <td>0</td>\n",
       "      <td>111369</td>\n",
       "      <td>30.0000</td>\n",
       "      <td>C148</td>\n",
       "      <td>C</td>\n",
       "    </tr>\n",
       "    <tr>\n",
       "      <th>890</th>\n",
       "      <td>891</td>\n",
       "      <td>0</td>\n",
       "      <td>3</td>\n",
       "      <td>Dooley, Mr. Patrick</td>\n",
       "      <td>male</td>\n",
       "      <td>32.0</td>\n",
       "      <td>0</td>\n",
       "      <td>0</td>\n",
       "      <td>370376</td>\n",
       "      <td>7.7500</td>\n",
       "      <td>NaN</td>\n",
       "      <td>Q</td>\n",
       "    </tr>\n",
       "  </tbody>\n",
       "</table>\n",
       "<p>891 rows × 12 columns</p>\n",
       "</div>"
      ],
      "text/plain": [
       "\n",
       "     PassengerId  Survived  Pclass  \\\n",
       "\u001b[1;36m0\u001b[0m              \u001b[1;36m1\u001b[0m         \u001b[1;36m0\u001b[0m       \u001b[1;36m3\u001b[0m   \n",
       "\u001b[1;36m1\u001b[0m              \u001b[1;36m2\u001b[0m         \u001b[1;36m1\u001b[0m       \u001b[1;36m1\u001b[0m   \n",
       "\u001b[1;36m2\u001b[0m              \u001b[1;36m3\u001b[0m         \u001b[1;36m1\u001b[0m       \u001b[1;36m3\u001b[0m   \n",
       "\u001b[1;36m3\u001b[0m              \u001b[1;36m4\u001b[0m         \u001b[1;36m1\u001b[0m       \u001b[1;36m1\u001b[0m   \n",
       "\u001b[1;36m4\u001b[0m              \u001b[1;36m5\u001b[0m         \u001b[1;36m0\u001b[0m       \u001b[1;36m3\u001b[0m   \n",
       "..           \u001b[33m...\u001b[0m       \u001b[33m...\u001b[0m     \u001b[33m...\u001b[0m   \n",
       "\u001b[1;36m886\u001b[0m          \u001b[1;36m887\u001b[0m         \u001b[1;36m0\u001b[0m       \u001b[1;36m2\u001b[0m   \n",
       "\u001b[1;36m887\u001b[0m          \u001b[1;36m888\u001b[0m         \u001b[1;36m1\u001b[0m       \u001b[1;36m1\u001b[0m   \n",
       "\u001b[1;36m888\u001b[0m          \u001b[1;36m889\u001b[0m         \u001b[1;36m0\u001b[0m       \u001b[1;36m3\u001b[0m   \n",
       "\u001b[1;36m889\u001b[0m          \u001b[1;36m890\u001b[0m         \u001b[1;36m1\u001b[0m       \u001b[1;36m1\u001b[0m   \n",
       "\u001b[1;36m890\u001b[0m          \u001b[1;36m891\u001b[0m         \u001b[1;36m0\u001b[0m       \u001b[1;36m3\u001b[0m   \n",
       "\n",
       "                                                  Name     Sex   Age  SibSp  \\\n",
       "\u001b[1;36m0\u001b[0m                              Braund, Mr. Owen Harris    male  \u001b[1;36m22.0\u001b[0m      \u001b[1;36m1\u001b[0m   \n",
       "\u001b[1;36m1\u001b[0m    Cumings, Mrs. John Bradley \u001b[1m(\u001b[0mFlorence Briggs Th\u001b[33m...\u001b[0m  female  \u001b[1;36m38.0\u001b[0m      \u001b[1;36m1\u001b[0m   \n",
       "\u001b[1;36m2\u001b[0m                               Heikkinen, Miss. Laina  female  \u001b[1;36m26.0\u001b[0m      \u001b[1;36m0\u001b[0m   \n",
       "\u001b[1;36m3\u001b[0m         Futrelle, Mrs. Jacques Heath \u001b[1m(\u001b[0mLily May Peel\u001b[1m)\u001b[0m  female  \u001b[1;36m35.0\u001b[0m      \u001b[1;36m1\u001b[0m   \n",
       "\u001b[1;36m4\u001b[0m                             Allen, Mr. William Henry    male  \u001b[1;36m35.0\u001b[0m      \u001b[1;36m0\u001b[0m   \n",
       "..                                                 \u001b[33m...\u001b[0m     \u001b[33m...\u001b[0m   \u001b[33m...\u001b[0m    \u001b[33m...\u001b[0m   \n",
       "\u001b[1;36m886\u001b[0m                              Montvila, Rev. Juozas    male  \u001b[1;36m27.0\u001b[0m      \u001b[1;36m0\u001b[0m   \n",
       "\u001b[1;36m887\u001b[0m                       Graham, Miss. Margaret Edith  female  \u001b[1;36m19.0\u001b[0m      \u001b[1;36m0\u001b[0m   \n",
       "\u001b[1;36m888\u001b[0m           Johnston, Miss. Catherine Helen \u001b[32m\"Carrie\"\u001b[0m  female   NaN      \u001b[1;36m1\u001b[0m   \n",
       "\u001b[1;36m889\u001b[0m                              Behr, Mr. Karl Howell    male  \u001b[1;36m26.0\u001b[0m      \u001b[1;36m0\u001b[0m   \n",
       "\u001b[1;36m890\u001b[0m                                Dooley, Mr. Patrick    male  \u001b[1;36m32.0\u001b[0m      \u001b[1;36m0\u001b[0m   \n",
       "\n",
       "     Parch            Ticket     Fare Cabin Embarked  \n",
       "\u001b[1;36m0\u001b[0m        \u001b[1;36m0\u001b[0m         A/\u001b[1;36m5\u001b[0m \u001b[1;36m21171\u001b[0m   \u001b[1;36m7.2500\u001b[0m   NaN        S  \n",
       "\u001b[1;36m1\u001b[0m        \u001b[1;36m0\u001b[0m          PC \u001b[1;36m17599\u001b[0m  \u001b[1;36m71.2833\u001b[0m   C85        C  \n",
       "\u001b[1;36m2\u001b[0m        \u001b[1;36m0\u001b[0m  STON/O2. \u001b[1;36m3101282\u001b[0m   \u001b[1;36m7.9250\u001b[0m   NaN        S  \n",
       "\u001b[1;36m3\u001b[0m        \u001b[1;36m0\u001b[0m            \u001b[1;36m113803\u001b[0m  \u001b[1;36m53.1000\u001b[0m  C123        S  \n",
       "\u001b[1;36m4\u001b[0m        \u001b[1;36m0\u001b[0m            \u001b[1;36m373450\u001b[0m   \u001b[1;36m8.0500\u001b[0m   NaN        S  \n",
       "..     \u001b[33m...\u001b[0m               \u001b[33m...\u001b[0m      \u001b[33m...\u001b[0m   \u001b[33m...\u001b[0m      \u001b[33m...\u001b[0m  \n",
       "\u001b[1;36m886\u001b[0m      \u001b[1;36m0\u001b[0m            \u001b[1;36m211536\u001b[0m  \u001b[1;36m13.0000\u001b[0m   NaN        S  \n",
       "\u001b[1;36m887\u001b[0m      \u001b[1;36m0\u001b[0m            \u001b[1;36m112053\u001b[0m  \u001b[1;36m30.0000\u001b[0m   B42        S  \n",
       "\u001b[1;36m888\u001b[0m      \u001b[1;36m2\u001b[0m        W.\u001b[35m/\u001b[0m\u001b[95mC.\u001b[0m \u001b[1;36m6607\u001b[0m  \u001b[1;36m23.4500\u001b[0m   NaN        S  \n",
       "\u001b[1;36m889\u001b[0m      \u001b[1;36m0\u001b[0m            \u001b[1;36m111369\u001b[0m  \u001b[1;36m30.0000\u001b[0m  C148        C  \n",
       "\u001b[1;36m890\u001b[0m      \u001b[1;36m0\u001b[0m            \u001b[1;36m370376\u001b[0m   \u001b[1;36m7.7500\u001b[0m   NaN        Q  \n",
       "\n",
       "\u001b[1m[\u001b[0m\u001b[1;36m891\u001b[0m rows x \u001b[1;36m12\u001b[0m columns\u001b[1m]\u001b[0m"
      ]
     },
     "execution_count": 2,
     "metadata": {},
     "output_type": "execute_result"
    }
   ],
   "source": [
    "catalog.load(\"train_raw\")"
   ]
  },
  {
   "cell_type": "code",
   "execution_count": 3,
   "id": "1d214e46-37e2-4b1b-a400-1a03b63c294b",
   "metadata": {
    "editable": true,
    "slideshow": {
     "slide_type": ""
    },
    "tags": [
     "node"
    ]
   },
   "outputs": [],
   "source": [
    "def some_action():\n",
    "    print(\"This function came from `notebooks/my_notebook.ipynb`\")"
   ]
  },
  {
   "cell_type": "code",
   "execution_count": null,
   "id": "4d90a36c-de7c-4001-92fd-bbc3ff4e9cf0",
   "metadata": {
    "editable": true,
    "slideshow": {
     "slide_type": ""
    },
    "tags": []
   },
   "outputs": [],
   "source": []
  }
 ],
 "metadata": {
  "kernelspec": {
   "display_name": "Kedro (project)",
   "language": "python",
   "name": "kedro_project"
  },
  "language_info": {
   "codemirror_mode": {
    "name": "ipython",
    "version": 3
   },
   "file_extension": ".py",
   "mimetype": "text/x-python",
   "name": "python",
   "nbconvert_exporter": "python",
   "pygments_lexer": "ipython3",
   "version": "3.10.0"
  },
  "widgets": {
   "application/vnd.jupyter.widget-state+json": {
    "state": {},
    "version_major": 2,
    "version_minor": 0
   }
  }
 },
 "nbformat": 4,
 "nbformat_minor": 5
}
